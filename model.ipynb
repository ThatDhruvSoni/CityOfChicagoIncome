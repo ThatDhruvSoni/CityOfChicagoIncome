{
 "cells": [
  {
   "cell_type": "code",
   "execution_count": 918,
   "metadata": {},
   "outputs": [],
   "source": [
    "import pandas as pd\n",
    "import numpy as np\n",
    "import seaborn as sns\n",
    "import matplotlib.pyplot as plt\n",
    "import sklearn\n",
    "from sklearn.model_selection import train_test_split\n",
    "from sklearn.preprocessing import OneHotEncoder\n",
    "from sklearn.ensemble import RandomForestRegressor, GradientBoostingRegressor\n",
    "from sklearn.linear_model import SGDRegressor\n",
    "from sklearn.neural_network import MLPRegressor\n",
    "from sklearn.metrics import mean_absolute_percentage_error"
   ]
  },
  {
   "cell_type": "code",
   "execution_count": 919,
   "metadata": {},
   "outputs": [],
   "source": [
    "df = pd.read_csv('salaries.csv')"
   ]
  },
  {
   "cell_type": "code",
   "execution_count": 920,
   "metadata": {},
   "outputs": [
    {
     "name": "stdout",
     "output_type": "stream",
     "text": [
      "<class 'pandas.core.frame.DataFrame'>\n",
      "RangeIndex: 32028 entries, 0 to 32027\n",
      "Data columns (total 8 columns):\n",
      " #   Column             Non-Null Count  Dtype  \n",
      "---  ------             --------------  -----  \n",
      " 0   Name               32028 non-null  object \n",
      " 1   Job Titles         32028 non-null  object \n",
      " 2   Department         32028 non-null  object \n",
      " 3   Full or Part-Time  32028 non-null  object \n",
      " 4   Salary or Hourly   32028 non-null  object \n",
      " 5   Typical Hours      7153 non-null   float64\n",
      " 6   Annual Salary      24875 non-null  float64\n",
      " 7   Hourly Rate        7153 non-null   float64\n",
      "dtypes: float64(3), object(5)\n",
      "memory usage: 2.0+ MB\n"
     ]
    }
   ],
   "source": [
    "df.info()"
   ]
  },
  {
   "cell_type": "markdown",
   "metadata": {},
   "source": [
    "Adding a salary feature which takes the Annual salary for salaried employees and calculated an annual salary for hourly employees."
   ]
  },
  {
   "cell_type": "code",
   "execution_count": 921,
   "metadata": {},
   "outputs": [],
   "source": [
    "df['Salary'] = df.apply(lambda row: row['Annual Salary'] if row['Salary or Hourly'] == 'SALARY' else row['Typical Hours'] * row['Hourly Rate'] * 52, axis=1)\n",
    "df.drop(['Annual Salary', 'Typical Hours', 'Hourly Rate'], axis=1, inplace=True)"
   ]
  },
  {
   "cell_type": "markdown",
   "metadata": {},
   "source": [
    "Categorising job titles as high skilled (2), medium skilled (1) or low skilled (0) by taking the mean salary for each title and comparing. "
   ]
  },
  {
   "cell_type": "code",
   "execution_count": 922,
   "metadata": {},
   "outputs": [],
   "source": [
    "titles = pd.DataFrame(df.groupby('Job Titles')['Salary'].mean()).reset_index()\n",
    "def skill(row):\n",
    "    if row['Salary'] <= 83250:\n",
    "        return 0\n",
    "    if row['Salary'] > 83250 and row['Salary'] < 127107:\n",
    "        return 1\n",
    "    else:\n",
    "        return 2\n",
    "titles['Skill'] = titles.apply(skill, axis=1)\n",
    "titles.drop('Salary', axis=1, inplace=True)\n"
   ]
  },
  {
   "cell_type": "code",
   "execution_count": 923,
   "metadata": {},
   "outputs": [],
   "source": [
    "df = pd.merge(df, titles, on='Job Titles', how='left')"
   ]
  },
  {
   "cell_type": "markdown",
   "metadata": {},
   "source": [
    "Removing unnecessary columns"
   ]
  },
  {
   "cell_type": "code",
   "execution_count": 926,
   "metadata": {},
   "outputs": [],
   "source": [
    "df.drop(['Name', 'Job Titles'], axis=1, inplace=True)"
   ]
  },
  {
   "cell_type": "markdown",
   "metadata": {},
   "source": [
    "Encoding Full-time or Part-time employees"
   ]
  },
  {
   "cell_type": "code",
   "execution_count": 927,
   "metadata": {},
   "outputs": [],
   "source": [
    "df['Full-time'] = df.apply(lambda row: 1 if row['Full or Part-Time'] == 'F' else 0, axis=1)\n",
    "df.drop('Full or Part-Time', axis=1, inplace=True)"
   ]
  },
  {
   "cell_type": "markdown",
   "metadata": {},
   "source": [
    "Encoding Salaried or Hourly employees"
   ]
  },
  {
   "cell_type": "code",
   "execution_count": 928,
   "metadata": {},
   "outputs": [],
   "source": [
    "df['Salaried'] = df.apply(lambda row: 1 if row['Salary or Hourly'] == 'SALARY' else 0, axis=1)\n",
    "df.drop('Salary or Hourly', axis=1, inplace=True)"
   ]
  },
  {
   "cell_type": "markdown",
   "metadata": {},
   "source": [
    "One-hot encoding the Department feature"
   ]
  },
  {
   "cell_type": "code",
   "execution_count": 929,
   "metadata": {},
   "outputs": [],
   "source": [
    "encoder = OneHotEncoder(sparse_output=False)\n",
    "\n",
    "one_hot = pd.DataFrame(encoder.fit_transform(df[['Department']]), columns=encoder.get_feature_names_out(['Department']))\n",
    "df = pd.concat([df, one_hot], axis=1)\n",
    "df.drop(['Department', 'Department_BOARD OF ELECTION COMMISSIONERS'], axis=1, inplace=True)"
   ]
  },
  {
   "cell_type": "markdown",
   "metadata": {},
   "source": [
    "Correlation of all features with the target variable"
   ]
  },
  {
   "cell_type": "code",
   "execution_count": 943,
   "metadata": {},
   "outputs": [
    {
     "data": {
      "text/plain": [
       "Department_CHICAGO PUBLIC LIBRARY                                      -0.238119\n",
       "Department_DEPARTMENT OF FAMILY AND SUPPORT SERVICES                   -0.206442\n",
       "Department_OFFICE OF EMERGENCY MANAGEMENT AND COMMUNICATIONS           -0.183349\n",
       "Department_CITY COUNCIL                                                -0.138442\n",
       "Department_DEPARTMENT OF STREETS AND SANITATION                        -0.117482\n",
       "Department_CHICAGO DEPARTMENT OF AVIATION                              -0.072709\n",
       "Department_DEPARTMENT OF FINANCE                                       -0.059745\n",
       "Department_CHICAGO ANIMAL CARE AND CONTROL                             -0.042310\n",
       "Department_OFFICE OF CITY CLERK                                        -0.035490\n",
       "Department_DEPARTMENT OF HOUSING                                       -0.021570\n",
       "Department_MAYORS OFFICE FOR PEOPLE WITH DISABILITIES                  -0.020068\n",
       "Department_DEPARTMENT OF ADMINISTRATIVE HEARING                        -0.014283\n",
       "Department_DEPARTMENT OF BUSINESS AFFAIRS AND CONSUMER PROTECTION      -0.010124\n",
       "Department_CHICAGO DEPARTMENT OF PUBLIC HEALTH                         -0.005316\n",
       "Department_DEPARTMENT OF PLANNING AND DEVELOPMENT                      -0.004233\n",
       "Department_DEPARTMENT OF HUMAN RESOURCES                               -0.002570\n",
       "Department_CIVILIAN OFFICE OF POLICE ACCOUNTABILITY                    -0.001218\n",
       "Department_OFFICE OF INSPECTOR GENERAL                                 -0.001069\n",
       "Department_CHICAGO POLICE BOARD                                        -0.000112\n",
       "Department_DEPARTMENT OF CULTURAL AFFAIRS AND SPECIAL EVENTS            0.000416\n",
       "Department_CHICAGO COMMISSION ON HUMAN RELATIONS                        0.001966\n",
       "Department_LICENSE APPEAL COMMISSION                                    0.002372\n",
       "Department_COMMUNITY COMMISSION FOR PUBLIC SAFETY AND ACCOUNTABILITY    0.004270\n",
       "Department_CITY TREASURER'S OFFICE                                      0.008175\n",
       "Department_OFFICE OF THE MAYOR                                          0.009120\n",
       "Department_DEPARTMENT OF ENVIRONMENT                                    0.011234\n",
       "Department_BOARD OF ETHICS                                              0.011862\n",
       "Department_OFFICE OF BUDGET & MANAGEMENT                                0.012572\n",
       "Department_OFFICE OF PUBLIC SAFETY ADMINISTRATION                       0.014920\n",
       "Department_DEPARTMENT OF PROCUREMENT SERVICES                           0.014938\n",
       "Department_DEPARTMENT OF FLEET AND FACILITY MANAGEMENT                  0.030409\n",
       "Department_DEPARTMENT OF LAW                                            0.031339\n",
       "Department_CHICAGO DEPARTMENT OF TRANSPORTATION                         0.031984\n",
       "Department_DEPARTMENT OF TECHNOLOGY AND INNOVATION                      0.050347\n",
       "Department_DEPARTMENT OF WATER MANAGEMENT                               0.051024\n",
       "Department_DEPARTMENT OF BUILDINGS                                      0.068159\n",
       "Department_CHICAGO FIRE DEPARTMENT                                      0.111118\n",
       "Department_CHICAGO POLICE DEPARTMENT                                    0.215970\n",
       "Salaried                                                                0.282632\n",
       "Full-time                                                               0.526844\n",
       "Skill                                                                   0.798706\n",
       "Salary                                                                  1.000000\n",
       "Name: Salary, dtype: float64"
      ]
     },
     "execution_count": 943,
     "metadata": {},
     "output_type": "execute_result"
    }
   ],
   "source": [
    "df.corr()['Salary'].sort_values()"
   ]
  },
  {
   "cell_type": "code",
   "execution_count": 931,
   "metadata": {},
   "outputs": [],
   "source": [
    "newdf = df.copy()\n",
    "X = newdf.iloc[:, 1:]\n",
    "y = newdf.iloc[:, 0:1]"
   ]
  },
  {
   "cell_type": "markdown",
   "metadata": {},
   "source": [
    "Train-test splitting"
   ]
  },
  {
   "cell_type": "code",
   "execution_count": 932,
   "metadata": {},
   "outputs": [],
   "source": [
    "train_X, test_X, train_y, test_y = train_test_split(X,y, random_state=1)"
   ]
  },
  {
   "cell_type": "markdown",
   "metadata": {},
   "source": [
    "Random-Forest model"
   ]
  },
  {
   "cell_type": "code",
   "execution_count": 933,
   "metadata": {},
   "outputs": [
    {
     "name": "stderr",
     "output_type": "stream",
     "text": [
      "/Users/Dhruv/Desktop/MachineLearning/.venv/lib/python3.11/site-packages/sklearn/base.py:1473: DataConversionWarning: A column-vector y was passed when a 1d array was expected. Please change the shape of y to (n_samples,), for example using ravel().\n",
      "  return fit_method(estimator, *args, **kwargs)\n"
     ]
    }
   ],
   "source": [
    "randomforests = RandomForestRegressor(n_estimators=200, random_state=1)\n",
    "randomforests.fit(train_X, train_y)\n",
    "pred_y = randomforests.predict(test_X)\n",
    "randomforest_accuracy = mean_absolute_percentage_error(test_y, pred_y)"
   ]
  },
  {
   "cell_type": "markdown",
   "metadata": {},
   "source": [
    "Gradient boosting model"
   ]
  },
  {
   "cell_type": "code",
   "execution_count": 934,
   "metadata": {},
   "outputs": [
    {
     "name": "stderr",
     "output_type": "stream",
     "text": [
      "/Users/Dhruv/Desktop/MachineLearning/.venv/lib/python3.11/site-packages/sklearn/ensemble/_gb.py:668: DataConversionWarning: A column-vector y was passed when a 1d array was expected. Please change the shape of y to (n_samples, ), for example using ravel().\n",
      "  y = column_or_1d(y, warn=True)  # TODO: Is this still required?\n"
     ]
    }
   ],
   "source": [
    "gradboosted = GradientBoostingRegressor(n_estimators=200, random_state=1)\n",
    "gradboosted.fit(train_X, train_y)\n",
    "pred_y = gradboosted.predict(test_X)\n",
    "gradboosted_accuracy = mean_absolute_percentage_error(test_y, pred_y)"
   ]
  },
  {
   "cell_type": "markdown",
   "metadata": {},
   "source": [
    "SGD Regressor"
   ]
  },
  {
   "cell_type": "code",
   "execution_count": 935,
   "metadata": {},
   "outputs": [
    {
     "name": "stderr",
     "output_type": "stream",
     "text": [
      "/Users/Dhruv/Desktop/MachineLearning/.venv/lib/python3.11/site-packages/sklearn/utils/validation.py:1310: DataConversionWarning: A column-vector y was passed when a 1d array was expected. Please change the shape of y to (n_samples, ), for example using ravel().\n",
      "  y = column_or_1d(y, warn=True)\n"
     ]
    }
   ],
   "source": [
    "sgd = SGDRegressor(random_state=1, learning_rate='invscaling', early_stopping=True)\n",
    "sgd.fit(train_X, train_y)\n",
    "pred_y = sgd.predict(test_X)\n",
    "sgd_accuracy = mean_absolute_percentage_error(test_y, pred_y)"
   ]
  },
  {
   "cell_type": "markdown",
   "metadata": {},
   "source": [
    "Artificial Neural Network"
   ]
  },
  {
   "cell_type": "code",
   "execution_count": 944,
   "metadata": {},
   "outputs": [
    {
     "name": "stderr",
     "output_type": "stream",
     "text": [
      "/Users/Dhruv/Desktop/MachineLearning/.venv/lib/python3.11/site-packages/sklearn/neural_network/_multilayer_perceptron.py:1631: DataConversionWarning: A column-vector y was passed when a 1d array was expected. Please change the shape of y to (n_samples, ), for example using ravel().\n",
      "  y = column_or_1d(y, warn=True)\n"
     ]
    }
   ],
   "source": [
    "mlp = MLPRegressor(random_state=1, hidden_layer_sizes=(256,128,64,32,16,8), early_stopping=True, learning_rate='adaptive')\n",
    "mlp.fit(train_X, train_y)\n",
    "pred_y = mlp.predict(test_X)\n",
    "mlp_accuracy = mean_absolute_percentage_error(test_y, pred_y)"
   ]
  },
  {
   "cell_type": "markdown",
   "metadata": {},
   "source": [
    "Accuracies for different models "
   ]
  },
  {
   "cell_type": "code",
   "execution_count": 937,
   "metadata": {},
   "outputs": [
    {
     "name": "stdout",
     "output_type": "stream",
     "text": [
      "0.12144760295151728\n"
     ]
    }
   ],
   "source": [
    "print(randomforest_accuracy)"
   ]
  },
  {
   "cell_type": "code",
   "execution_count": 938,
   "metadata": {},
   "outputs": [
    {
     "name": "stdout",
     "output_type": "stream",
     "text": [
      "0.12337476781142429\n"
     ]
    }
   ],
   "source": [
    "print(gradboosted_accuracy)"
   ]
  },
  {
   "cell_type": "code",
   "execution_count": 939,
   "metadata": {},
   "outputs": [
    {
     "name": "stdout",
     "output_type": "stream",
     "text": [
      "0.141441426315549\n"
     ]
    }
   ],
   "source": [
    "print(sgd_accuracy)"
   ]
  },
  {
   "cell_type": "code",
   "execution_count": 945,
   "metadata": {},
   "outputs": [
    {
     "name": "stdout",
     "output_type": "stream",
     "text": [
      "0.1297995063900087\n"
     ]
    }
   ],
   "source": [
    "print(mlp_accuracy)"
   ]
  }
 ],
 "metadata": {
  "kernelspec": {
   "display_name": ".venv",
   "language": "python",
   "name": "python3"
  },
  "language_info": {
   "codemirror_mode": {
    "name": "ipython",
    "version": 3
   },
   "file_extension": ".py",
   "mimetype": "text/x-python",
   "name": "python",
   "nbconvert_exporter": "python",
   "pygments_lexer": "ipython3",
   "version": "3.11.2"
  }
 },
 "nbformat": 4,
 "nbformat_minor": 2
}
